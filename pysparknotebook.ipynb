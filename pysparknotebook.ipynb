{
 "cells": [
  {
   "cell_type": "code",
   "execution_count": 62,
   "metadata": {},
   "outputs": [],
   "source": [
    "# import libraries\n",
    "\n",
    "import numpy as np\n",
    "import pandas as pd\n",
    "from pyspark.sql import SparkSession"
   ]
  },
  {
   "cell_type": "code",
   "execution_count": 63,
   "metadata": {},
   "outputs": [],
   "source": [
    "# Initialize Spark session\n",
    "session = SparkSession.builder.appName(\"LoLAnalyzer\").getOrCreate()"
   ]
  },
  {
   "cell_type": "code",
   "execution_count": 64,
   "metadata": {},
   "outputs": [
    {
     "name": "stdout",
     "output_type": "stream",
     "text": [
      "root\n",
      " |-- Name: string (nullable = true)\n",
      " |-- Tags: string (nullable = true)\n",
      " |-- Role: string (nullable = true)\n",
      " |-- Range type: string (nullable = true)\n",
      " |-- Resourse type: string (nullable = true)\n",
      " |-- Base HP: integer (nullable = true)\n",
      " |-- HP per lvl: integer (nullable = true)\n",
      " |-- Base mana: integer (nullable = true)\n",
      " |-- Mana per lvl: double (nullable = true)\n",
      " |-- Movement speed: integer (nullable = true)\n",
      " |-- Base armor: integer (nullable = true)\n",
      " |-- Armor per lvl: double (nullable = true)\n",
      " |-- Base magic resistance: integer (nullable = true)\n",
      " |-- Magic resistance per lvl: double (nullable = true)\n",
      " |-- Attack range: integer (nullable = true)\n",
      " |-- HP regeneration: double (nullable = true)\n",
      " |-- HP regeneration per lvl: double (nullable = true)\n",
      " |-- Mana regeneration: double (nullable = true)\n",
      " |-- Mana regeneration per lvl: double (nullable = true)\n",
      " |-- Attack damage: integer (nullable = true)\n",
      " |-- Attack damage per lvl: double (nullable = true)\n",
      " |-- Attack speed per lvl: double (nullable = true)\n",
      " |-- Attack speed: double (nullable = true)\n",
      " |-- AS ratio: double (nullable = true)\n",
      "\n"
     ]
    }
   ],
   "source": [
    "# read in the LoL Champions csv file\n",
    "\n",
    "df = session.read.csv(\"LoL_champions.csv\",header=True,inferSchema=True)\n",
    "df.printSchema()"
   ]
  },
  {
   "cell_type": "code",
   "execution_count": 65,
   "metadata": {},
   "outputs": [
    {
     "name": "stdout",
     "output_type": "stream",
     "text": [
      "+------------+-------------+-------+---------+\n",
      "|        Name|         Tags|Base HP|Base Mana|\n",
      "+------------+-------------+-------+---------+\n",
      "|        Ahri|Mage,Assassin|    590|      418|\n",
      "|      Anivia|         Mage|    550|      495|\n",
      "|       Annie| Mage,Support|    560|      418|\n",
      "|Aurelion Sol|         Mage|    620|      530|\n",
      "|        Azir|Mage,Marksman|    550|      320|\n",
      "|        Bard| Support,Mage|    630|      350|\n",
      "|       Brand| Mage,Support|    570|      469|\n",
      "|  Cassiopeia|         Mage|    630|      350|\n",
      "|    Cho'Gath|    Tank,Mage|    644|      270|\n",
      "|       Corki|Marksman,Mage|    640|      350|\n",
      "|        Ekko|Assassin,Mage|    655|      280|\n",
      "|       Elise|Assassin,Mage|    650|      324|\n",
      "|     Evelynn|Assassin,Mage|    642|      315|\n",
      "|      Ezreal|Marksman,Mage|    600|      375|\n",
      "|Fiddlesticks| Mage,Support|    650|      500|\n",
      "|       Galio|    Tank,Mage|    632|      500|\n",
      "|      Gragas| Fighter,Mage|    640|      400|\n",
      "|Heimerdinger| Mage,Support|    558|      385|\n",
      "|        Hwei| Mage,Support|    580|      480|\n",
      "|       Ivern| Support,Mage|    630|      450|\n",
      "+------------+-------------+-------+---------+\n",
      "only showing top 20 rows\n",
      "\n"
     ]
    }
   ],
   "source": [
    "# SQL Transformer: Make DataFrame to analyze mages\n",
    "from pyspark.ml.feature import SQLTransformer\n",
    "\n",
    "\n",
    "viewHealthMana = SQLTransformer(\n",
    "    statement=\"SELECT Name, Tags,`Base HP`,`Base Mana` FROM __THIS__ WHERE Tags='Mage' OR Tags LIKE '%Mage%'\")\n",
    "\n",
    "\n",
    "viewHealthMana_frame = viewHealthMana.transform(df)\n",
    "viewHealthMana_frame.show()"
   ]
  },
  {
   "cell_type": "code",
   "execution_count": 66,
   "metadata": {},
   "outputs": [
    {
     "data": {
      "text/plain": [
       "LinearRegressionModel: uid=LinearRegression_b3d8f15d5b0d, numFeatures=1"
      ]
     },
     "execution_count": 66,
     "metadata": {},
     "output_type": "execute_result"
    }
   ],
   "source": [
    "# regression on viewHealthMana:\n",
    "#   analyze whether more BaseHP correlates with less Base Mana\n",
    "#   (one would argue more of one resource means the character has less of another)\n",
    "\n",
    "from pyspark.ml.linalg import Vectors\n",
    "from pyspark.ml.regression import LinearRegression\n",
    "from pyspark.ml.feature import VectorAssembler\n",
    "\n",
    "\n",
    "# explanatory/feauture var: BaseHP\n",
    "#      convert to a vector for regression purposes, assemple\n",
    "vec = VectorAssembler(inputCols=[\"Base HP\"], outputCol=\"Explanatory\")\n",
    "assembled_data = vec.transform(viewHealthMana_frame)\n",
    "\n",
    "# data is small, so use a regparam of 0.01 (too large risks overfitting)\n",
    "# solver=\"normal\" , no need for any iterative optimization with this smaller example\n",
    "# Feauture = Base HP (can make it into more values for multi linear)\n",
    "# response = Base Mana\n",
    "\n",
    "linear_model = LinearRegression(\n",
    "    featuresCol=\"Explanatory\", \n",
    "    labelCol=\"Base HP\", \n",
    "    predictionCol=\"Base Mana Predict\", \n",
    "    regParam=0.01, \n",
    "    solver=\"normal\"\n",
    ")\n",
    "\n",
    "ManaHPfit = linear_model.fit(assembled_data)\n",
    "ManaHPfit\n"
   ]
  },
  {
   "cell_type": "code",
   "execution_count": 67,
   "metadata": {},
   "outputs": [
    {
     "name": "stdout",
     "output_type": "stream",
     "text": [
      "coefficient:\n",
      "[0.9997184227949548]\n",
      "intercept:\n",
      "0.17050078348792644\n",
      "p-value\n",
      "[0.0, 2.8679281172117044e-12]\n"
     ]
    }
   ],
   "source": [
    "# SLR: using BaseHpPredict above, let's observe coefficients\n",
    "\n",
    "print(\"coefficient:\")\n",
    "print(ManaHPfit.coefficients)\n",
    "print(\"intercept:\")\n",
    "print(ManaHPfit.intercept)\n",
    "print(\"p-value\")\n",
    "print(ManaHPfit.summary.pValues)\n",
    "\n",
    "\n",
    "\n",
    "# shows the linear fit is Base Mana = 0.9997 * BaseHP + 0.1705\n",
    "# positive correlation\n"
   ]
  },
  {
   "cell_type": "code",
   "execution_count": 68,
   "metadata": {},
   "outputs": [
    {
     "name": "stdout",
     "output_type": "stream",
     "text": [
      "+------------+-------------+-------+---------+-----------+-----------------+\n",
      "|        Name|         Tags|Base HP|Base Mana|Explanatory|Base Mana Predict|\n",
      "+------------+-------------+-------+---------+-----------+-----------------+\n",
      "|        Ahri|Mage,Assassin|    590|      418|    [590.0]|590.0043702325113|\n",
      "|      Anivia|         Mage|    550|      495|    [550.0]| 550.015633320713|\n",
      "|       Annie| Mage,Support|    560|      418|    [560.0]|560.0128175486626|\n",
      "|Aurelion Sol|         Mage|    620|      530|    [620.0]|619.9959229163599|\n",
      "|        Azir|Mage,Marksman|    550|      320|    [550.0]| 550.015633320713|\n",
      "|        Bard| Support,Mage|    630|      350|    [630.0]|629.9931071443094|\n",
      "|       Brand| Mage,Support|    570|      469|    [570.0]|570.0100017766122|\n",
      "|  Cassiopeia|         Mage|    630|      350|    [630.0]|629.9931071443094|\n",
      "|    Cho'Gath|    Tank,Mage|    644|      270|    [644.0]|643.9891650634388|\n",
      "|       Corki|Marksman,Mage|    640|      350|    [640.0]| 639.990291372259|\n",
      "|        Ekko|Assassin,Mage|    655|      280|    [655.0]|654.9860677141833|\n",
      "|       Elise|Assassin,Mage|    650|      324|    [650.0]|649.9874756002085|\n",
      "|     Evelynn|Assassin,Mage|    642|      315|    [642.0]|641.9897282178489|\n",
      "|      Ezreal|Marksman,Mage|    600|      375|    [600.0]|600.0015544604609|\n",
      "|Fiddlesticks| Mage,Support|    650|      500|    [650.0]|649.9874756002085|\n",
      "|       Galio|    Tank,Mage|    632|      500|    [632.0]|631.9925439898993|\n",
      "|      Gragas| Fighter,Mage|    640|      400|    [640.0]| 639.990291372259|\n",
      "|Heimerdinger| Mage,Support|    558|      385|    [558.0]|558.0133807030727|\n",
      "|        Hwei| Mage,Support|    580|      480|    [580.0]|580.0071860045617|\n",
      "|       Ivern| Support,Mage|    630|      450|    [630.0]|629.9931071443094|\n",
      "+------------+-------------+-------+---------+-----------+-----------------+\n",
      "only showing top 20 rows\n",
      "\n"
     ]
    }
   ],
   "source": [
    "# making predictions\n",
    "\n",
    "# Make predictions with the assembled data\n",
    "BaseHpPredict = ManaHPfit.transform(assembled_data)\n",
    "\n",
    "# shows fitted results and predictions for given Mana values\n",
    "BaseHpPredict.show()"
   ]
  }
 ],
 "metadata": {
  "kernelspec": {
   "display_name": "Python 3",
   "language": "python",
   "name": "python3"
  },
  "language_info": {
   "codemirror_mode": {
    "name": "ipython",
    "version": 3
   },
   "file_extension": ".py",
   "mimetype": "text/x-python",
   "name": "python",
   "nbconvert_exporter": "python",
   "pygments_lexer": "ipython3",
   "version": "3.9.6"
  },
  "orig_nbformat": 4
 },
 "nbformat": 4,
 "nbformat_minor": 2
}
