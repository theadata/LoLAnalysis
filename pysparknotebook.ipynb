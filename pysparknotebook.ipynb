{
 "cells": [
  {
   "cell_type": "code",
   "execution_count": 2,
   "metadata": {},
   "outputs": [],
   "source": [
    "# import libraries\n",
    "\n",
    "import numpy as np\n",
    "import pandas as pd\n",
    "from pyspark.sql import SparkSession"
   ]
  },
  {
   "cell_type": "code",
   "execution_count": 5,
   "metadata": {},
   "outputs": [
    {
     "name": "stderr",
     "output_type": "stream",
     "text": [
      "Setting default log level to \"WARN\".\n",
      "To adjust logging level use sc.setLogLevel(newLevel). For SparkR, use setLogLevel(newLevel).\n",
      "24/07/27 00:42:17 WARN NativeCodeLoader: Unable to load native-hadoop library for your platform... using builtin-java classes where applicable\n"
     ]
    }
   ],
   "source": [
    "# Initialize Spark session\n",
    "spark = SparkSession.builder.appName(\"LoLAnalyzer\").getOrCreate()"
   ]
  },
  {
   "cell_type": "code",
   "execution_count": 7,
   "metadata": {},
   "outputs": [
    {
     "name": "stdout",
     "output_type": "stream",
     "text": [
      "root\n",
      " |-- Name: string (nullable = true)\n",
      " |-- Tags: string (nullable = true)\n",
      " |-- Role: string (nullable = true)\n",
      " |-- Range type: string (nullable = true)\n",
      " |-- Resourse type: string (nullable = true)\n",
      " |-- Base HP: integer (nullable = true)\n",
      " |-- HP per lvl: integer (nullable = true)\n",
      " |-- Base mana: integer (nullable = true)\n",
      " |-- Mana per lvl: double (nullable = true)\n",
      " |-- Movement speed: integer (nullable = true)\n",
      " |-- Base armor: integer (nullable = true)\n",
      " |-- Armor per lvl: double (nullable = true)\n",
      " |-- Base magic resistance: integer (nullable = true)\n",
      " |-- Magic resistance per lvl: double (nullable = true)\n",
      " |-- Attack range: integer (nullable = true)\n",
      " |-- HP regeneration: double (nullable = true)\n",
      " |-- HP regeneration per lvl: double (nullable = true)\n",
      " |-- Mana regeneration: double (nullable = true)\n",
      " |-- Mana regeneration per lvl: double (nullable = true)\n",
      " |-- Attack damage: integer (nullable = true)\n",
      " |-- Attack damage per lvl: double (nullable = true)\n",
      " |-- Attack speed per lvl: double (nullable = true)\n",
      " |-- Attack speed: double (nullable = true)\n",
      " |-- AS ratio: double (nullable = true)\n",
      "\n"
     ]
    }
   ],
   "source": [
    "# read in the LoL Champions csv file\n",
    "\n",
    "df = spark.read.csv(\"LoL_champions.csv\",header=True,inferSchema=True)\n",
    "df.printSchema()\n",
    "\n"
   ]
  },
  {
   "cell_type": "code",
   "execution_count": 21,
   "metadata": {},
   "outputs": [
    {
     "name": "stdout",
     "output_type": "stream",
     "text": [
      "+------------+-------------+---------+-------+\n",
      "|        Name|         Tags|Base Mana|Base HP|\n",
      "+------------+-------------+---------+-------+\n",
      "|        Ahri|Mage,Assassin|      418|    590|\n",
      "|      Anivia|         Mage|      495|    550|\n",
      "|       Annie| Mage,Support|      418|    560|\n",
      "|Aurelion Sol|         Mage|      530|    620|\n",
      "|        Azir|Mage,Marksman|      320|    550|\n",
      "|        Bard| Support,Mage|      350|    630|\n",
      "|       Brand| Mage,Support|      469|    570|\n",
      "|  Cassiopeia|         Mage|      350|    630|\n",
      "|    Cho'Gath|    Tank,Mage|      270|    644|\n",
      "|       Corki|Marksman,Mage|      350|    640|\n",
      "|        Ekko|Assassin,Mage|      280|    655|\n",
      "|       Elise|Assassin,Mage|      324|    650|\n",
      "|     Evelynn|Assassin,Mage|      315|    642|\n",
      "|      Ezreal|Marksman,Mage|      375|    600|\n",
      "|Fiddlesticks| Mage,Support|      500|    650|\n",
      "|       Galio|    Tank,Mage|      500|    632|\n",
      "|      Gragas| Fighter,Mage|      400|    640|\n",
      "|Heimerdinger| Mage,Support|      385|    558|\n",
      "|        Hwei| Mage,Support|      480|    580|\n",
      "|       Ivern| Support,Mage|      450|    630|\n",
      "+------------+-------------+---------+-------+\n",
      "only showing top 20 rows\n",
      "\n"
     ]
    }
   ],
   "source": [
    "# SQL Transformer\n",
    "from pyspark.ml.feature import SQLTransformer\n",
    "\n",
    "viewHealthMana = SQLTransformer(\n",
    "    statement=\"SELECT Name, Tags,`Base Mana`, `Base HP` FROM __THIS__ WHERE Tags='Mage' OR Tags LIKE '%Mage%'\")\n",
    "\n",
    "(viewHealthMana.transform(df)).show()"
   ]
  },
  {
   "cell_type": "code",
   "execution_count": null,
   "metadata": {},
   "outputs": [],
   "source": []
  }
 ],
 "metadata": {
  "kernelspec": {
   "display_name": "Python 3",
   "language": "python",
   "name": "python3"
  },
  "language_info": {
   "codemirror_mode": {
    "name": "ipython",
    "version": 3
   },
   "file_extension": ".py",
   "mimetype": "text/x-python",
   "name": "python",
   "nbconvert_exporter": "python",
   "pygments_lexer": "ipython3",
   "version": "3.9.6"
  },
  "orig_nbformat": 4
 },
 "nbformat": 4,
 "nbformat_minor": 2
}
